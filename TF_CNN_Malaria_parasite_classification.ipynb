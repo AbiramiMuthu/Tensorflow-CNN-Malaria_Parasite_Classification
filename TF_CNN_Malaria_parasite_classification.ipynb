{
  "nbformat": 4,
  "nbformat_minor": 0,
  "metadata": {
    "colab": {
      "name": "TF-CNN-Malaria_parasite_classification.ipynb",
      "provenance": [],
      "collapsed_sections": [],
      "authorship_tag": "ABX9TyMxtW25o92e8oi/dp0rcN+m",
      "include_colab_link": true
    },
    "kernelspec": {
      "name": "python3",
      "display_name": "Python 3"
    },
    "language_info": {
      "name": "python"
    },
    "accelerator": "GPU"
  },
  "cells": [
    {
      "cell_type": "markdown",
      "metadata": {
        "id": "view-in-github",
        "colab_type": "text"
      },
      "source": [
        "<a href=\"https://colab.research.google.com/github/AbiramiMuthu/Tensorflow-CNN-Malaria_Parasite_Classification/blob/main/TF_CNN_Malaria_parasite_classification.ipynb\" target=\"_parent\"><img src=\"https://colab.research.google.com/assets/colab-badge.svg\" alt=\"Open In Colab\"/></a>"
      ]
    },
    {
      "cell_type": "markdown",
      "metadata": {
        "id": "pZG9oSZiWbCr"
      },
      "source": [
        "## Malaria Parasite classification using CNN"
      ]
    },
    {
      "cell_type": "markdown",
      "metadata": {
        "id": "lctmSRlIWjVS"
      },
      "source": [
        "Cloned the Dataset from the github repo, The dataset is avaiable in Kaggle."
      ]
    },
    {
      "cell_type": "code",
      "metadata": {
        "colab": {
          "base_uri": "https://localhost:8080/"
        },
        "id": "NDsBnfm5h7ox",
        "outputId": "a2f34243-941f-46d7-9122-9e527c4d214f"
      },
      "source": [
        "! git clone https://github.com/laxmimerit/Malaria-Classification-Using-CNN.git\n"
      ],
      "execution_count": null,
      "outputs": [
        {
          "output_type": "stream",
          "text": [
            "Cloning into 'Malaria-Classification-Using-CNN'...\n",
            "remote: Enumerating objects: 27577, done.\u001b[K\n",
            "remote: Total 27577 (delta 0), reused 0 (delta 0), pack-reused 27577\u001b[K\n",
            "Receiving objects: 100% (27577/27577), 331.67 MiB | 39.01 MiB/s, done.\n",
            "Resolving deltas: 100% (3/3), done.\n",
            "Checking out files: 100% (27562/27562), done.\n"
          ],
          "name": "stdout"
        }
      ]
    },
    {
      "cell_type": "markdown",
      "metadata": {
        "id": "04Ry6uRPWyZE"
      },
      "source": [
        "### Load Libraries"
      ]
    },
    {
      "cell_type": "code",
      "metadata": {
        "id": "6vdpCSXylVqa"
      },
      "source": [
        "import numpy as np\n",
        "import pandas as pd\n",
        "import matplotlib.pyplot as plt\n"
      ],
      "execution_count": null,
      "outputs": []
    },
    {
      "cell_type": "code",
      "metadata": {
        "id": "koWOuNvDog2d"
      },
      "source": [
        "import tensorflow as tf\n",
        "from tensorflow.keras import Sequential\n",
        "from tensorflow.keras.layers import Flatten,Dense,Conv2D,MaxPool2D,Dropout\n",
        "from tensorflow.keras.preprocessing.image import ImageDataGenerator"
      ],
      "execution_count": null,
      "outputs": []
    },
    {
      "cell_type": "markdown",
      "metadata": {
        "id": "ev8tQBkUXBHu"
      },
      "source": [
        "## Load the Train and the Validation generator"
      ]
    },
    {
      "cell_type": "code",
      "metadata": {
        "id": "9CftK4G5pQCZ"
      },
      "source": [
        "img_width,img_height=(64,64)"
      ],
      "execution_count": null,
      "outputs": []
    },
    {
      "cell_type": "code",
      "metadata": {
        "id": "ZRchSMwzp_8k"
      },
      "source": [
        "imagegen=ImageDataGenerator(rescale=1/255.0,validation_split=0.2)"
      ],
      "execution_count": null,
      "outputs": []
    },
    {
      "cell_type": "code",
      "metadata": {
        "colab": {
          "base_uri": "https://localhost:8080/"
        },
        "id": "rJL8FfQup_tv",
        "outputId": "ae32e718-6306-4610-fd97-983367e9481d"
      },
      "source": [
        "train_generator=imagegen.flow_from_directory(\"/content/Malaria-Classification-Using-CNN/malaria-dataset\",\n",
        "                                             target_size=(img_width,img_height),\n",
        "                                             class_mode='binary',\n",
        "                                             batch_size=16,\n",
        "                                             subset='training')"
      ],
      "execution_count": null,
      "outputs": [
        {
          "output_type": "stream",
          "text": [
            "Found 22048 images belonging to 2 classes.\n"
          ],
          "name": "stdout"
        }
      ]
    },
    {
      "cell_type": "code",
      "metadata": {
        "colab": {
          "base_uri": "https://localhost:8080/"
        },
        "id": "2RpMyvxCpzHD",
        "outputId": "128ef97a-02c1-4477-cd38-9fa8ad77dd54"
      },
      "source": [
        "test_generator=imagegen.flow_from_directory(\"/content/Malaria-Classification-Using-CNN/malaria-dataset\",\n",
        "                                             target_size=(img_width,img_height),\n",
        "                                             class_mode='binary',\n",
        "                                             batch_size=16,\n",
        "                                             subset='validation')"
      ],
      "execution_count": null,
      "outputs": [
        {
          "output_type": "stream",
          "text": [
            "Found 5510 images belonging to 2 classes.\n"
          ],
          "name": "stdout"
        }
      ]
    },
    {
      "cell_type": "code",
      "metadata": {
        "colab": {
          "base_uri": "https://localhost:8080/"
        },
        "id": "OzxjUu3mtIqD",
        "outputId": "e0b3c045-a19d-45ed-925a-5276ae51353d"
      },
      "source": [
        "train_generator.classes"
      ],
      "execution_count": null,
      "outputs": [
        {
          "output_type": "execute_result",
          "data": {
            "text/plain": [
              "array([0, 0, 0, ..., 1, 1, 1], dtype=int32)"
            ]
          },
          "metadata": {
            "tags": []
          },
          "execution_count": 8
        }
      ]
    },
    {
      "cell_type": "code",
      "metadata": {
        "colab": {
          "base_uri": "https://localhost:8080/"
        },
        "id": "5UiyQ5_YtSGj",
        "outputId": "f6702859-fce7-44d1-8092-54fc0643744b"
      },
      "source": [
        "train_generator.image_shape"
      ],
      "execution_count": null,
      "outputs": [
        {
          "output_type": "execute_result",
          "data": {
            "text/plain": [
              "(64, 64, 3)"
            ]
          },
          "metadata": {
            "tags": []
          },
          "execution_count": 9
        }
      ]
    },
    {
      "cell_type": "markdown",
      "metadata": {
        "id": "DScmdi5pXMUo"
      },
      "source": [
        "## Build the Model"
      ]
    },
    {
      "cell_type": "code",
      "metadata": {
        "id": "VYfHct_6tW_a"
      },
      "source": [
        "model = Sequential()\n",
        "\n",
        "model.add(Conv2D(16, (3,3), input_shape = (img_width, img_height, 3), activation='relu'))\n",
        "model.add(MaxPool2D(2,2))\n",
        "model.add(Dropout(0.2))\n",
        "\n",
        "model.add(Conv2D(32, (3,3), activation='relu'))\n",
        "model.add(MaxPool2D(2,2))\n",
        "model.add(Dropout(0.3))\n",
        "\n",
        "model.add(Flatten())\n",
        "model.add(Dense(64, activation='relu'))\n",
        "model.add(Dropout(0.5))\n",
        "\n",
        "model.add(Dense(1, activation='sigmoid'))"
      ],
      "execution_count": null,
      "outputs": []
    },
    {
      "cell_type": "code",
      "metadata": {
        "colab": {
          "base_uri": "https://localhost:8080/"
        },
        "id": "lxtgEqJCvTZh",
        "outputId": "e1f9fd00-ffb8-49b3-c3c6-ec3d6ef29483"
      },
      "source": [
        "model.summary()"
      ],
      "execution_count": null,
      "outputs": [
        {
          "output_type": "stream",
          "text": [
            "Model: \"sequential_1\"\n",
            "_________________________________________________________________\n",
            "Layer (type)                 Output Shape              Param #   \n",
            "=================================================================\n",
            "conv2d_2 (Conv2D)            (None, 62, 62, 16)        448       \n",
            "_________________________________________________________________\n",
            "max_pooling2d_2 (MaxPooling2 (None, 31, 31, 16)        0         \n",
            "_________________________________________________________________\n",
            "dropout_3 (Dropout)          (None, 31, 31, 16)        0         \n",
            "_________________________________________________________________\n",
            "conv2d_3 (Conv2D)            (None, 29, 29, 32)        4640      \n",
            "_________________________________________________________________\n",
            "max_pooling2d_3 (MaxPooling2 (None, 14, 14, 32)        0         \n",
            "_________________________________________________________________\n",
            "dropout_4 (Dropout)          (None, 14, 14, 32)        0         \n",
            "_________________________________________________________________\n",
            "flatten_1 (Flatten)          (None, 6272)              0         \n",
            "_________________________________________________________________\n",
            "dense_2 (Dense)              (None, 64)                401472    \n",
            "_________________________________________________________________\n",
            "dropout_5 (Dropout)          (None, 64)                0         \n",
            "_________________________________________________________________\n",
            "dense_3 (Dense)              (None, 1)                 65        \n",
            "=================================================================\n",
            "Total params: 406,625\n",
            "Trainable params: 406,625\n",
            "Non-trainable params: 0\n",
            "_________________________________________________________________\n"
          ],
          "name": "stdout"
        }
      ]
    },
    {
      "cell_type": "code",
      "metadata": {
        "id": "lbE2jzQdvVfh"
      },
      "source": [
        "model.compile(optimizer='adam',loss='binary_crossentropy',metrics=['accuracy'])"
      ],
      "execution_count": null,
      "outputs": []
    },
    {
      "cell_type": "markdown",
      "metadata": {
        "id": "7CfcUOmQXipr"
      },
      "source": [
        "## Train the Model"
      ]
    },
    {
      "cell_type": "code",
      "metadata": {
        "colab": {
          "base_uri": "https://localhost:8080/"
        },
        "id": "vy_H-QgLvv9X",
        "outputId": "113d541c-47da-485e-a779-1d65ad24905a"
      },
      "source": [
        "history=model.fit_generator(train_generator,\n",
        "                            steps_per_epoch=len(train_generator),\n",
        "                            epochs=10,\n",
        "                            validation_data=test_generator,\n",
        "                            validation_steps=len(test_generator))"
      ],
      "execution_count": null,
      "outputs": [
        {
          "output_type": "stream",
          "text": [
            "/usr/local/lib/python3.7/dist-packages/tensorflow/python/keras/engine/training.py:1940: UserWarning: `Model.fit_generator` is deprecated and will be removed in a future version. Please use `Model.fit`, which supports generators.\n",
            "  warnings.warn('`Model.fit_generator` is deprecated and '\n"
          ],
          "name": "stderr"
        },
        {
          "output_type": "stream",
          "text": [
            "Epoch 1/10\n",
            "1378/1378 [==============================] - 61s 21ms/step - loss: 0.4968 - accuracy: 0.7652 - val_loss: 0.2198 - val_accuracy: 0.9250\n",
            "Epoch 2/10\n",
            "1378/1378 [==============================] - 29s 21ms/step - loss: 0.2382 - accuracy: 0.9215 - val_loss: 0.1860 - val_accuracy: 0.9368\n",
            "Epoch 3/10\n",
            "1378/1378 [==============================] - 28s 20ms/step - loss: 0.2103 - accuracy: 0.9292 - val_loss: 0.1730 - val_accuracy: 0.9403\n",
            "Epoch 4/10\n",
            "1378/1378 [==============================] - 28s 20ms/step - loss: 0.1925 - accuracy: 0.9361 - val_loss: 0.1848 - val_accuracy: 0.9303\n",
            "Epoch 5/10\n",
            "1378/1378 [==============================] - 28s 21ms/step - loss: 0.1720 - accuracy: 0.9459 - val_loss: 0.1681 - val_accuracy: 0.9434\n",
            "Epoch 6/10\n",
            "1378/1378 [==============================] - 29s 21ms/step - loss: 0.1626 - accuracy: 0.9496 - val_loss: 0.1732 - val_accuracy: 0.9365\n",
            "Epoch 7/10\n",
            "1378/1378 [==============================] - 29s 21ms/step - loss: 0.1564 - accuracy: 0.9511 - val_loss: 0.2277 - val_accuracy: 0.9109\n",
            "Epoch 8/10\n",
            "1378/1378 [==============================] - 27s 20ms/step - loss: 0.1475 - accuracy: 0.9526 - val_loss: 0.1693 - val_accuracy: 0.9407\n",
            "Epoch 9/10\n",
            "1378/1378 [==============================] - 29s 21ms/step - loss: 0.1381 - accuracy: 0.9555 - val_loss: 0.1732 - val_accuracy: 0.9403\n",
            "Epoch 10/10\n",
            "1378/1378 [==============================] - 27s 20ms/step - loss: 0.1345 - accuracy: 0.9575 - val_loss: 0.2021 - val_accuracy: 0.9314\n"
          ],
          "name": "stdout"
        }
      ]
    },
    {
      "cell_type": "code",
      "metadata": {
        "colab": {
          "base_uri": "https://localhost:8080/"
        },
        "id": "G-A-tjqUwbRn",
        "outputId": "4fa66f82-a017-4860-e20a-ba2697bf0a04"
      },
      "source": [
        "history.history"
      ],
      "execution_count": null,
      "outputs": [
        {
          "output_type": "execute_result",
          "data": {
            "text/plain": [
              "{'accuracy': [0.7652394771575928,\n",
              "  0.9214894771575928,\n",
              "  0.9291999340057373,\n",
              "  0.9361393451690674,\n",
              "  0.9459361433982849,\n",
              "  0.9495645761489868,\n",
              "  0.9510613083839417,\n",
              "  0.9526033997535706,\n",
              "  0.955460786819458,\n",
              "  0.9575471878051758],\n",
              " 'loss': [0.49682050943374634,\n",
              "  0.23816624283790588,\n",
              "  0.21025340259075165,\n",
              "  0.19254910945892334,\n",
              "  0.17197342216968536,\n",
              "  0.16260641813278198,\n",
              "  0.15638738870620728,\n",
              "  0.14751510322093964,\n",
              "  0.1380523443222046,\n",
              "  0.13449515402317047],\n",
              " 'val_accuracy': [0.925045371055603,\n",
              "  0.9368420839309692,\n",
              "  0.9402903914451599,\n",
              "  0.9303085207939148,\n",
              "  0.9433757066726685,\n",
              "  0.9364791512489319,\n",
              "  0.9108892679214478,\n",
              "  0.940653383731842,\n",
              "  0.9402903914451599,\n",
              "  0.9313974380493164],\n",
              " 'val_loss': [0.2197682112455368,\n",
              "  0.1859574317932129,\n",
              "  0.17297978699207306,\n",
              "  0.1847943514585495,\n",
              "  0.16808342933654785,\n",
              "  0.17316700518131256,\n",
              "  0.22768057882785797,\n",
              "  0.16928115487098694,\n",
              "  0.17319849133491516,\n",
              "  0.20207904279232025]}"
            ]
          },
          "metadata": {
            "tags": []
          },
          "execution_count": 15
        }
      ]
    },
    {
      "cell_type": "code",
      "metadata": {
        "id": "1rAbuK2Qxii0"
      },
      "source": [
        "def plot_learningCurve(history, epoch):\n",
        "  # Plot training & validation accuracy values\n",
        "  epoch_range = range(1, epoch+1)\n",
        "  plt.plot(epoch_range, history.history['accuracy'])\n",
        "  plt.plot(epoch_range, history.history['val_accuracy'])\n",
        "  plt.title('Model accuracy')\n",
        "  plt.ylabel('Accuracy')\n",
        "  plt.xlabel('Epoch')\n",
        "  plt.legend(['Train', 'Val'], loc='upper left')\n",
        "  plt.show()\n",
        "\n",
        "  # Plot training & validation loss values\n",
        "  plt.plot(epoch_range, history.history['loss'])\n",
        "  plt.plot(epoch_range, history.history['val_loss'])\n",
        "  plt.title('Model loss')\n",
        "  plt.ylabel('Loss')\n",
        "  plt.xlabel('Epoch')\n",
        "  plt.legend(['Train', 'Val'], loc='upper left')\n",
        "  plt.show()"
      ],
      "execution_count": null,
      "outputs": []
    },
    {
      "cell_type": "markdown",
      "metadata": {
        "id": "TzclrbaeXtm7"
      },
      "source": [
        "## Loss and Accuracy Curve"
      ]
    },
    {
      "cell_type": "code",
      "metadata": {
        "colab": {
          "base_uri": "https://localhost:8080/",
          "height": 573
        },
        "id": "Ok8xI-Lwx4qT",
        "outputId": "48abd4d8-471d-4559-dd22-988e75b9945d"
      },
      "source": [
        "plot_learningCurve(history, 10)"
      ],
      "execution_count": null,
      "outputs": [
        {
          "output_type": "display_data",
          "data": {
            "image/png": "[encoded data removed]",
            "text/plain": [
              "<Figure size 432x288 with 1 Axes>"
            ]
          },
          "metadata": {
            "tags": [],
            "needs_background": "light"
          }
        },
        {
          "output_type": "display_data",
          "data": {
            "image/png": "[encoded data removed]",
            "text/plain": [
              "<Figure size 432x288 with 1 Axes>"
            ]
          },
          "metadata": {
            "tags": [],
            "needs_background": "light"
          }
        }
      ]
    },
    {
      "cell_type": "code",
      "metadata": {
        "id": "l7iNlGSRx-s9"
      },
      "source": [
        ""
      ],
      "execution_count": null,
      "outputs": []
    }
  ]
}